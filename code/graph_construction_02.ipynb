{
 "cells": [
  {
   "cell_type": "code",
   "execution_count": 1,
   "metadata": {},
   "outputs": [],
   "source": [
    "import networkx as nx\n",
    "import matplotlib.pyplot as plt\n",
    "import numpy as np\n",
    "import json"
   ]
  },
  {
   "cell_type": "markdown",
   "metadata": {},
   "source": [
    "## Reading in the data\n",
    "I have the data saved in individual json files for each doctor. So here I am constructing a NetworkX based by creating a link between the doctor's ID number and each of the institutions they trained at or hospitals they are affiliated with. I want to add edge attributes for the years they attended each institution and whether it was undergrad/MD/residency/fellowship and node attributes for where they currently are and their job title, specialty, sub-specialty and awards."
   ]
  },
  {
   "cell_type": "code",
   "execution_count": 2,
   "metadata": {},
   "outputs": [],
   "source": [
    "i = -1\n",
    "G = nx.Graph()\n",
    "edge_count = 0\n",
    "institutions = set()\n",
    "# hospitals = set()\n",
    "errors = 0\n",
    "while i <= 38970: # total number of files\n",
    "    i = i + 1 # increment counter\n",
    "    try:\n",
    "        filepath = '../../physician_trajectories/data/card/' + str(i) + '.json' # construct filepath\n",
    "        with open(filepath, 'r') as f:\n",
    "            data = json.load(f) # load json as dict\n",
    "            if data.get(str(i)).get('training'):\n",
    "                for keys, vals in data.get(str(i)).get('training').items(): # iterate through 'training'\n",
    "                    institutions.add(list(vals.keys())[0]) # add institution to set\n",
    "                    G.add_edge(i, list(vals.keys())[0]) # create edge between doctor id and institution\n",
    "                for line in data.get(str(i)).get('hospital'):\n",
    "                    institutions.add(line) # add hospital to set\n",
    "                    G.add_edge(i, line) # create edge between doctor and hospital\n",
    "    except Exception as e:\n",
    "        errors = errors + 1\n"
   ]
  },
  {
   "cell_type": "markdown",
   "metadata": {},
   "source": [
    "## Degree distribution\n",
    "The degree distribution of the whole cardiology network seems to follow a power law but I need to fit it to say whether its 'scale-free' or not. This is the whole network including doctors and institutions so I think that's why theres a weird hump near at low degrees because I think the doctors degrees will probably follow more of a poisson distribution but the institutions might be scale free, but here we're getting the amalgamation of both."
   ]
  },
  {
   "cell_type": "code",
   "execution_count": 3,
   "metadata": {},
   "outputs": [],
   "source": [
    "def degree_distribution(G, number_of_bins=15, log_binning=True, density=True, directed=False):\n",
    "    \"\"\"\n",
    "    Given a degree sequence, return the y values (probability) and the\n",
    "    x values (support) of a degree distribution that you're going to plot.\n",
    "\n",
    "    Parameters\n",
    "    ----------\n",
    "    G (nx.Graph):\n",
    "        the network whose degree distribution to calculate\n",
    "\n",
    "    number_of_bins (int):\n",
    "        length of output vectors\n",
    "\n",
    "    log_binning (bool):\n",
    "        if you are plotting on a log-log axis, then this is useful\n",
    "\n",
    "    density (bool):\n",
    "        whether to return counts or probability density (default: True)\n",
    "        Note: probability densities integrate to 1 but do not sum to 1.\n",
    "\n",
    "    directed (bool or str):\n",
    "        if False, this assumes the network is undirected. Otherwise, the\n",
    "        function requires an 'in' or 'out' as input, which will create the\n",
    "        in- or out-degree distributions, respectively.\n",
    "\n",
    "    Returns\n",
    "    -------\n",
    "    bins_out, probs (np.ndarray):\n",
    "        probability density if density=True node counts if density=False; binned edges\n",
    "\n",
    "    \"\"\"\n",
    "\n",
    "    # Step 0: Do we want the directed or undirected degree distribution?\n",
    "    if directed:\n",
    "        if directed == 'in':\n",
    "            k = list(dict(G.in_degree()).values())  # get the in degree of each node\n",
    "        elif directed == 'out':\n",
    "            k = list(dict(G.out_degree()).values())  # get the out degree of each node\n",
    "        else:\n",
    "            out_error = \"Help! if directed!=False, the input needs to be either 'in' or 'out'\"\n",
    "            print(out_error)\n",
    "            # Question: Is this the correct way to raise an error message in Python?\n",
    "            #           See \"raise\" function...\n",
    "            return out_error\n",
    "    else:\n",
    "        k = list(dict(G.degree()).values())  # get the degree of each node\n",
    "\n",
    "    # Step 1: We will first need to define the support of our distribution\n",
    "    kmax = np.max(k)  # get the maximum degree\n",
    "    kmin = 0  # let's assume kmin must be 0\n",
    "\n",
    "    # Step 2: Then we'll need to construct bins\n",
    "    if log_binning:\n",
    "        # array of bin edges including rightmost and leftmost\n",
    "        bins = np.logspace(0, np.log10(kmax + 1), number_of_bins + 1)\n",
    "    else:\n",
    "        bins = np.linspace(0, kmax + 1, num=number_of_bins + 1)\n",
    "\n",
    "    # Step 3: Then we can compute the histogram using numpy\n",
    "    probs, _ = np.histogram(k, bins, density=density)\n",
    "\n",
    "    # Step 4: Return not the \"bins\" but the midpoint between adjacent bin\n",
    "    #         values. This is a better way to plot the distribution.\n",
    "    bins_out = bins[1:] - np.diff(bins) / 2.0\n",
    "\n",
    "    return bins_out, probs"
   ]
  },
  {
   "cell_type": "code",
   "execution_count": 6,
   "metadata": {},
   "outputs": [
    {
     "data": {
      "text/plain": [
       "'/Users/nima/PycharmProjects/PhD/physician_trajectories/code'"
      ]
     },
     "execution_count": null,
     "metadata": {},
     "output_type": "execute_result"
    }
   ],
   "source": [
    "%pwd"
   ]
  },
  {
   "cell_type": "code",
   "execution_count": 8,
   "metadata": {},
   "outputs": [
    {
     "data": {
      "image/png": "[encoded data removed]",
      "text/plain": [
       "<Figure size 500x400 with 1 Axes>"
      ]
     },
     "metadata": {},
     "output_type": "display_data"
    }
   ],
   "source": [
    "\n",
    "x, y = degree_distribution(G)\n",
    "fig, ax = plt.subplots(1,1,figsize=(2.5,2),dpi=200)\n",
    "\n",
    "ax.loglog(x, y,'o', color='firebrick', alpha=0.8,  ms = 4)\n",
    "\n",
    "ax.set_xlabel(r\"$k$\",fontsize='small')\n",
    "ax.set_ylabel(r\"$P(k)$\",fontsize='small')\n",
    "ax.grid(linewidth=0.7, color='#999999', alpha=0.15, linestyle='-')\n",
    "ax.set_title('Degree Distribution')\n",
    "plt.savefig('../figs/degree_dist.pdf', dpi=425, bbox_inches='tight')\n",
    "plt.savefig('../figs/degree_dist.png', dpi=425, bbox_inches='tight')"
   ]
  },
  {
   "cell_type": "code",
   "execution_count": null,
   "metadata": {},
   "outputs": [],
   "source": [
    "# i=4\n",
    "i = 19\n",
    "filepath = '../../NETS 5116 project/data/card/' + str(i) + '.json' # construct filepath\n",
    "with open(filepath, 'r') as f:\n",
    "    data = json.load(f) # load json as dict\n",
    "\n",
    "# for keys, vals in data.get(str(i)).get('training').items(): # iterate through 'training'\n",
    "#     institutions.add(list(vals.keys())[0]) # add institution to set\n",
    "#     G.add_edge(i, list(vals.keys())[0]) # create edge between doctor id and institution\n",
    "\n",
    "# for line in data.get(str(i)).get('hospital'):\n",
    "#     institutions.add(line) # add hospital to set\n",
    "#     G.add_edge(i, line) # create edge between doctor and hospital"
   ]
  },
  {
   "cell_type": "code",
   "execution_count": null,
   "metadata": {},
   "outputs": [],
   "source": [
    "for keys, vals in data.get(str(i)).get('training').items(): # iterate through 'training'\n",
    "    print(list(vals.keys())[0]) # add institution to set\n",
    "    print(list(vals.values())[0])\n",
    "    for line in list(vals.values())[0]:\n",
    "        if 'class' in line.lower()\n",
    "            level = 'MD'\n",
    "            topic = None\n",
    "            start = int(line.split()[-1]) - 4\n",
    "            end = int(line.split()[-1])\n",
    "\n",
    "    #G.add_edge(i, list(vals.keys())[0]) # create edge between doctor id and institution"
   ]
  },
  {
   "cell_type": "code",
   "execution_count": null,
   "metadata": {},
   "outputs": [],
   "source": [
    "print(nx.number_connected_components(G))\n",
    "print(nx.transitivity(G))\n",
    "print(len(institutions))\n",
    "# print(len(hospitals)) theres some overlap between hospitals and institutions - about 400 "
   ]
  }
 ],
 "metadata": {
  "language_info": {
   "name": "python"
  }
 },
 "nbformat": 4,
 "nbformat_minor": 2
}
