{
 "cells": [
  {
   "cell_type": "code",
   "execution_count": 1,
   "metadata": {},
   "outputs": [],
   "source": [
    "import networkx as nx\n",
    "import matplotlib.pyplot as plt\n",
    "import numpy as np\n",
    "import json"
   ]
  },
  {
   "cell_type": "code",
   "execution_count": 2,
   "metadata": {},
   "outputs": [],
   "source": [
    "i = -1\n",
    "G = nx.Graph()\n",
    "edge_count = 0\n",
    "institutions = set()\n",
    "# hospitals = set()\n",
    "errors = 0\n",
    "while i <= 38970: # total number of files\n",
    "    i = i + 1 # increment counter\n",
    "    try:\n",
    "        filepath = '../../physician_trajectories/data/card/' + str(i) + '.json' # construct filepath\n",
    "        with open(filepath, 'r') as f:\n",
    "            data = json.load(f) # load json as dict\n",
    "            if data.get(str(i)).get('training'):\n",
    "                for keys, vals in data.get(str(i)).get('training').items(): # iterate through 'training'\n",
    "                    institutions.add(list(vals.keys())[0]) # add institution to set\n",
    "                    G.add_edge(i, list(vals.keys())[0]) # create edge between doctor id and institution\n",
    "                for line in data.get(str(i)).get('hospital'):\n",
    "                    institutions.add(line) # add hospital to set\n",
    "                    G.add_edge(i, line) # create edge between doctor and hospital\n",
    "    except Exception as e:\n",
    "        errors = errors + 1\n"
   ]
  },
  {
   "cell_type": "code",
   "execution_count": null,
   "metadata": {},
   "outputs": [],
   "source": [
    "\n",
    "x, y = degree_distribution(G)\n",
    "fig, ax = plt.subplots(1,1,figsize=(2.5,2),dpi=200)\n",
    "\n",
    "ax.loglog(x, y,'o', color='firebrick', alpha=0.8,  ms = 4)\n",
    "\n",
    "ax.set_xlabel(r\"$k$\",fontsize='small')\n",
    "ax.set_ylabel(r\"$P(k)$\",fontsize='small')\n",
    "ax.grid(linewidth=0.7, color='#999999', alpha=0.15, linestyle='-')\n",
    "ax.set_title('Degree Distribution')\n",
    "plt.sa"
   ]
  },
  {
   "cell_type": "code",
   "execution_count": null,
   "metadata": {},
   "outputs": [],
   "source": [
    "# i=4\n",
    "i = 19\n",
    "filepath = '../../NETS 5116 project/data/card/' + str(i) + '.json' # construct filepath\n",
    "with open(filepath, 'r') as f:\n",
    "    data = json.load(f) # load json as dict\n",
    "\n",
    "# for keys, vals in data.get(str(i)).get('training').items(): # iterate through 'training'\n",
    "#     institutions.add(list(vals.keys())[0]) # add institution to set\n",
    "#     G.add_edge(i, list(vals.keys())[0]) # create edge between doctor id and institution\n",
    "\n",
    "# for line in data.get(str(i)).get('hospital'):\n",
    "#     institutions.add(line) # add hospital to set\n",
    "#     G.add_edge(i, line) # create edge between doctor and hospital"
   ]
  },
  {
   "cell_type": "code",
   "execution_count": null,
   "metadata": {},
   "outputs": [],
   "source": [
    "for keys, vals in data.get(str(i)).get('training').items(): # iterate through 'training'\n",
    "    print(list(vals.keys())[0]) # add institution to set\n",
    "    print(list(vals.values())[0])\n",
    "    for line in list(vals.values())[0]:\n",
    "        if 'class' in line.lower()\n",
    "            level = 'MD'\n",
    "            topic = None\n",
    "            start = int(line.split()[-1]) - 4\n",
    "            end = int(line.split()[-1])\n",
    "\n",
    "    #G.add_edge(i, list(vals.keys())[0]) # create edge between doctor id and institution"
   ]
  },
  {
   "cell_type": "code",
   "execution_count": null,
   "metadata": {},
   "outputs": [],
   "source": [
    "print(nx.number_connected_components(G))\n",
    "print(nx.transitivity(G))\n",
    "print(len(institutions))\n",
    "# print(len(hospitals)) theres some overlap between hospitals and institutions - about 400 "
   ]
  }
 ],
 "metadata": {
  "language_info": {
   "name": "python"
  }
 },
 "nbformat": 4,
 "nbformat_minor": 2
}
